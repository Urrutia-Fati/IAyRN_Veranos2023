{
  "nbformat": 4,
  "nbformat_minor": 0,
  "metadata": {
    "colab": {
      "provenance": []
    },
    "kernelspec": {
      "name": "python3",
      "display_name": "Python 3"
    },
    "language_info": {
      "name": "python"
    }
  },
  "cells": [
    {
      "cell_type": "code",
      "execution_count": 2,
      "metadata": {
        "colab": {
          "base_uri": "https://localhost:8080/",
          "height": 35
        },
        "id": "u8Cq0AcUiru4",
        "outputId": "cba6d7cc-c593-44cd-f9c4-1d4c509b1f51"
      },
      "outputs": [
        {
          "output_type": "execute_result",
          "data": {
            "text/plain": [
              "'\\nA1: Ejercicios en Python\\nFatima Yaneth Urrutia Hernández    1957536\\nIAyRN   Hora clase: N1-N3\\n'"
            ],
            "application/vnd.google.colaboratory.intrinsic+json": {
              "type": "string"
            }
          },
          "metadata": {},
          "execution_count": 2
        }
      ],
      "source": [
        "\"\"\"\n",
        "A1: Ejercicios en Python\n",
        "Fatima Yaneth Urrutia Hernández    1957536\n",
        "IAyRN   Hora clase: N1-N3\n",
        "\"\"\""
      ]
    },
    {
      "cell_type": "code",
      "source": [
        "\"\"\"\n",
        "1. Desarrolla un algoritmo que solicite al usuario dos números y muestre la suma de ambos.\n",
        "\"\"\"\n",
        "#pedir al usuario el primer número\n",
        "numero1 = int (input (\"por favor, ingrese el primer número:\"))\n",
        "#pedir al usuario el segundo numero\n",
        "numero2 = int (input (\"por favor, ingrese el segundo número:\"))\n",
        "#suma de ambos números\n",
        "print(\"La suma de ambos números es:\", numero1 + numero2)"
      ],
      "metadata": {
        "colab": {
          "base_uri": "https://localhost:8080/"
        },
        "id": "j52R56zdkI_U",
        "outputId": "d5cf8748-993e-40e4-cbc3-6df2110aa4c4"
      },
      "execution_count": 9,
      "outputs": [
        {
          "output_type": "stream",
          "name": "stdout",
          "text": [
            "por favor, ingrese el primer número:6\n",
            "por favor, ingrese el segundo número:7\n",
            "La suma de ambos números es: 13\n"
          ]
        }
      ]
    },
    {
      "cell_type": "code",
      "source": [
        "\"\"\"\n",
        "2, Desarrolla un algoritmo que calcule el factorial de un número ingresado por el usuario.\n",
        "\"\"\"\n",
        "# pedir al usuario un número a calcular\n",
        "num = int(input(\"Ingrese un número entero positivo: \"))\n",
        "# calcular el factorial\n",
        "if num == 0:\n",
        "    print(\"El factorial de 0 es 1.\")\n",
        "else:\n",
        "    factorial = 1\n",
        "    for i in range(1, num + 1):\n",
        "        factorial *= i\n",
        "    print(\"El factorial de\", num, \"es:\", factorial)\n"
      ],
      "metadata": {
        "colab": {
          "base_uri": "https://localhost:8080/"
        },
        "id": "hEJy302em5an",
        "outputId": "97ac4bd3-dcb7-459b-ebc2-08deb81e7862"
      },
      "execution_count": 10,
      "outputs": [
        {
          "output_type": "stream",
          "name": "stdout",
          "text": [
            "Ingrese un número entero positivo: 4\n",
            "El factorial de 4 es: 24\n"
          ]
        }
      ]
    },
    {
      "cell_type": "code",
      "source": [
        "\"\"\"\n",
        "3. Desarrolla un algoritmo que tome una lista de números y un número objetivo, y muestre\n",
        "la posición (índice) en la que se encuentra el número objetivo en la lista.\n",
        "\"\"\"\n",
        "\n",
        "#determinamos una lista de números\n",
        "numeros = [1, 4, 2, 19, 22, 12, 3, 43]\n",
        "#pedimos un número al usuario\n",
        "objetivo = int(input(\"Introduce un número como objetivo: \"))\n",
        "\n",
        " # Comprobamos si el número está en la lista\n",
        "if objetivo in numeros:\n",
        "    posicion = numeros.index(objetivo)\n",
        "\n",
        "    #número que aparece en la lista\n",
        "    print(\"El número\", objetivo, \"está en la posición\", posicion, \"de la lista.\")\n",
        "else:\n",
        "    #número que no aparece en la lista\n",
        "    print(\"El número\", objetivo, \"no está en la lista.\")\n"
      ],
      "metadata": {
        "colab": {
          "base_uri": "https://localhost:8080/"
        },
        "id": "rQBX2e2926uR",
        "outputId": "f7a98db4-4e9e-43b9-a067-bcf46068b211"
      },
      "execution_count": 55,
      "outputs": [
        {
          "output_type": "stream",
          "name": "stdout",
          "text": [
            "Introduce un número como objetivo: 19\n",
            "El número 19 está en la posición 3 de la lista.\n"
          ]
        }
      ]
    },
    {
      "cell_type": "code",
      "source": [
        "\"\"\"\n",
        "4. Desarrolla un algoritmo que tome una cadena de texto y determine si es un palíndromo\n",
        "(se lee igual de adelante hacia atrás y viceversa).\n",
        "\"\"\"\n",
        "#definir variable\n",
        "def es_palindromo(cadena):\n",
        "    cadena = cadena.replace(\" \", \"\").lower()\n",
        "\n",
        "    #verificar si es palíndromo\n",
        "    if cadena == cadena[::-1]:\n",
        "        return True\n",
        "    else:\n",
        "        return False\n",
        "\n",
        "#pedir una palabra al usuario\n",
        "texto = input(\"Ingrese un texto: \")\n",
        "if es_palindromo(texto):\n",
        "    print(\"Es un palíndromo\")\n",
        "else:\n",
        "    print(\"No es un palíndromo\")"
      ],
      "metadata": {
        "colab": {
          "base_uri": "https://localhost:8080/"
        },
        "id": "gpMK0qkLsDae",
        "outputId": "3c9b23e6-bc58-42a8-e3b3-b416440516ff"
      },
      "execution_count": 19,
      "outputs": [
        {
          "output_type": "stream",
          "name": "stdout",
          "text": [
            "Ingrese un texto: oso\n",
            "Es un palíndromo\n"
          ]
        }
      ]
    }
  ]
}